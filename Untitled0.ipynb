{
  "nbformat": 4,
  "nbformat_minor": 0,
  "metadata": {
    "colab": {
      "name": "Untitled0.ipynb",
      "provenance": [],
      "authorship_tag": "ABX9TyPoE2uR96r8mmRBMIBXVtj0",
      "include_colab_link": true
    },
    "kernelspec": {
      "name": "python3",
      "display_name": "Python 3"
    },
    "language_info": {
      "name": "python"
    }
  },
  "cells": [
    {
      "cell_type": "markdown",
      "metadata": {
        "id": "view-in-github",
        "colab_type": "text"
      },
      "source": [
        "<a href=\"https://colab.research.google.com/github/ipekyagmur/Yagmur-Assignment/blob/main/Untitled0.ipynb\" target=\"_parent\"><img src=\"https://colab.research.google.com/assets/colab-badge.svg\" alt=\"Open In Colab\"/></a>"
      ]
    },
    {
      "cell_type": "markdown",
      "metadata": {
        "id": "Ny5yHDP4tNLP"
      },
      "source": [
        "Estimating the risk of death from coronavirus.\n",
        "\n",
        "Consider the following questions in terms of True/False regarding anyone else.\n",
        "\n",
        "Are you a cigarette addict older than 75 years old? Variable → age\n",
        "\n",
        "Do you have a severe chronic disease? Variable → chronic\n",
        "\n",
        "Is your immune system too weak? Variable → immune\n",
        "\n",
        "Set a logical algorithm using boolean logic operators (and/or) and the given variables in order to give us True (there is a risk of death) or False (there is not a risk of death) as a result.\n"
      ]
    },
    {
      "cell_type": "code",
      "metadata": {
        "id": "60GAxmzPtMdU"
      },
      "source": [
        ""
      ],
      "execution_count": null,
      "outputs": []
    },
    {
      "cell_type": "code",
      "metadata": {
        "id": "ND4QVADGKDNL",
        "colab": {
          "base_uri": "https://localhost:8080/"
        },
        "outputId": "352c973b-51b6-4061-f605-9fadebf33ce4"
      },
      "source": [
        "age = input(\"How old are you : \")\n",
        "chronic = input(\"Do you have a severe chronic disease?(Yes/No):\").strip().upper()\n",
        "immune = input(\"Do you have a severe chronic disease? (Yes/No)\").strip().upper()\n",
        "cigarette = input(\"Are you a cigarette addict older than 75 years old?(Yes/No)\").strip().upper()\n",
        "\n",
        "\n",
        "if int(age) >= 75 or cigarette.startswith(\"Y\") or immune.startswith(\"N\") or chronic.startswith(\"Y\") :\n",
        "  print(\"You are in risky group!\")\n",
        "else :\n",
        "  print(\"You are not in risky group!\")"
      ],
      "execution_count": 4,
      "outputs": [
        {
          "output_type": "stream",
          "name": "stdout",
          "text": [
            "How old are you : 31\n",
            "Do you have a severe chronic disease?(Yes/No):no\n",
            "Do you have a severe chronic disease? (Yes/No)yes\n",
            "Are you a cigarette addict older than 75 years old?(Yes/No)no\n",
            "You are not in risky group!\n"
          ]
        }
      ]
    }
  ]
}