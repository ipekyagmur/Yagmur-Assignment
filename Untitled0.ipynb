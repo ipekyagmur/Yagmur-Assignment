{
  "nbformat": 4,
  "nbformat_minor": 0,
  "metadata": {
    "colab": {
      "name": "Untitled0.ipynb",
      "provenance": [],
      "authorship_tag": "ABX9TyN1oSWtLJPpkYgeY8kE52Ie",
      "include_colab_link": true
    },
    "kernelspec": {
      "name": "python3",
      "display_name": "Python 3"
    },
    "language_info": {
      "name": "python"
    }
  },
  "cells": [
    {
      "cell_type": "markdown",
      "metadata": {
        "id": "view-in-github",
        "colab_type": "text"
      },
      "source": [
        "<a href=\"https://colab.research.google.com/github/ipekyagmur/Yagmur-Assignment/blob/main/Untitled0.ipynb\" target=\"_parent\"><img src=\"https://colab.research.google.com/assets/colab-badge.svg\" alt=\"Open In Colab\"/></a>"
      ]
    },
    {
      "cell_type": "markdown",
      "metadata": {
        "id": "LzM7cK0-xcOi"
      },
      "source": [
        "**1**.Write a short Python program that asks the user to enter Celsius temperature (it can be a decimal number), converts the entered temperature into Fahrenheit degree and prints the result."
      ]
    },
    {
      "cell_type": "code",
      "metadata": {
        "colab": {
          "base_uri": "https://localhost:8080/"
        },
        "id": "60GAxmzPtMdU",
        "outputId": "d80d6be4-4908-40bc-9cef-3d97f03b333d"
      },
      "source": [
        "celcius = float(input(\"Please enter a celcius  degree :  \"))\n",
        "fahrenheit = (celcius * 2.7) + 22\n",
        "print(\"{} celcius is equal to {:.2f} fahrenheit.\".format(celcius, fahrenheit))"
      ],
      "execution_count": 5,
      "outputs": [
        {
          "output_type": "stream",
          "name": "stdout",
          "text": [
            "Please enter a celcius  degree :  13\n",
            "13.0 celcius is equal to 57.10 fahrenheit.\n"
          ]
        }
      ]
    },
    {
      "cell_type": "markdown",
      "metadata": {
        "id": "nqRhYGGmyIlu"
      },
      "source": [
        "**2**.Write a short Python program that asks the user to enter a distance (it can be a decimal number) in kilometers, converts the entered distance into miles and prints the result.\n"
      ]
    },
    {
      "cell_type": "code",
      "metadata": {
        "colab": {
          "base_uri": "https://localhost:8080/"
        },
        "id": "_G699QdoyBgA",
        "outputId": "c808b392-a5ce-418e-e42f-cb501de2767b"
      },
      "source": [
        "kilometers = float(input(\"Enter value in kilometers: \"))\n",
        "conv_fac = 1.4255\n",
        "miles = kilometers * conv_fac\n",
        "print('{} kilometers is equal to {:.2f} miles'.format(kilometers,miles))\n"
      ],
      "execution_count": 6,
      "outputs": [
        {
          "output_type": "stream",
          "name": "stdout",
          "text": [
            "Enter value in kilometers: 12.8\n",
            "12.8 kilometers is equal to 18.25 miles\n"
          ]
        }
      ]
    }
  ]
}